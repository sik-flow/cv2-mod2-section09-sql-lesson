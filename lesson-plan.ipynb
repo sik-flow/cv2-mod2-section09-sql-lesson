{
 "cells": [
  {
   "cell_type": "markdown",
   "metadata": {
    "toc": true
   },
   "source": [
    "<h1>Table of Contents<span class=\"tocSkip\"></span></h1>\n",
    "<div class=\"toc\"><ul class=\"toc-item\"><li><span><a href=\"#Lesson-Structure\" data-toc-modified-id=\"Lesson-Structure-1\"><span class=\"toc-item-num\">1&nbsp;&nbsp;</span>Lesson Structure</a></span><ul class=\"toc-item\"><li><span><a href=\"#Questions\" data-toc-modified-id=\"Questions-1.1\"><span class=\"toc-item-num\">1.1&nbsp;&nbsp;</span>Questions</a></span></li><li><span><a href=\"#Outcomes\" data-toc-modified-id=\"Outcomes-1.2\"><span class=\"toc-item-num\">1.2&nbsp;&nbsp;</span>Outcomes</a></span></li><li><span><a href=\"#Objectives\" data-toc-modified-id=\"Objectives-1.3\"><span class=\"toc-item-num\">1.3&nbsp;&nbsp;</span>Objectives</a></span></li><li><span><a href=\"#Outline\" data-toc-modified-id=\"Outline-1.4\"><span class=\"toc-item-num\">1.4&nbsp;&nbsp;</span>Outline</a></span></li></ul></li><li><span><a href=\"#Introduction-SQL---{Victor}\" data-toc-modified-id=\"Introduction-SQL---{Victor}-2\"><span class=\"toc-item-num\">2&nbsp;&nbsp;</span>Introduction SQL - {Victor}</a></span></li><li><span><a href=\"#Demonstrating-SQLite-&amp;-Python---{Jeff}\" data-toc-modified-id=\"Demonstrating-SQLite-&amp;-Python---{Jeff}-3\"><span class=\"toc-item-num\">3&nbsp;&nbsp;</span>Demonstrating SQLite &amp; Python - {Jeff}</a></span><ul class=\"toc-item\"><li><span><a href=\"#Connecting-to-our-sqlite-db-using-sqlite3\" data-toc-modified-id=\"Connecting-to-our-sqlite-db-using-sqlite3-3.1\"><span class=\"toc-item-num\">3.1&nbsp;&nbsp;</span>Connecting to our sqlite db using sqlite3</a></span></li><li><span><a href=\"#Listing-the-tables-in-our-db\" data-toc-modified-id=\"Listing-the-tables-in-our-db-3.2\"><span class=\"toc-item-num\">3.2&nbsp;&nbsp;</span>Listing the tables in our db</a></span></li><li><span><a href=\"#Now--select-everything-from-the-employees-table-just-to-get-a-feel-for-it\" data-toc-modified-id=\"Now--select-everything-from-the-employees-table-just-to-get-a-feel-for-it-3.3\"><span class=\"toc-item-num\">3.3&nbsp;&nbsp;</span>Now  select everything from the employees table just to get a feel for it</a></span></li></ul></li><li><span><a href=\"#More-Complexity---{Victor}\" data-toc-modified-id=\"More-Complexity---{Victor}-4\"><span class=\"toc-item-num\">4&nbsp;&nbsp;</span>More Complexity - {Victor}</a></span><ul class=\"toc-item\"><li><span><a href=\"#(3-min)-What-are-the-pros-and-cons-of-loading-a-sql-query-into-a-dataframe?\" data-toc-modified-id=\"(3-min)-What-are-the-pros-and-cons-of-loading-a-sql-query-into-a-dataframe?-4.1\"><span class=\"toc-item-num\">4.1&nbsp;&nbsp;</span>(3 min) What are the pros and cons of loading a sql query into a dataframe?</a></span></li><li><span><a href=\"#TODO:-REPLACE-←-Function-to-get-results\" data-toc-modified-id=\"TODO:-REPLACE-←-Function-to-get-results-4.2\"><span class=\"toc-item-num\">4.2&nbsp;&nbsp;</span>TODO: REPLACE ← Function to get results</a></span></li><li><span><a href=\"#TODO:--More-complex-queries\" data-toc-modified-id=\"TODO:--More-complex-queries-4.3\"><span class=\"toc-item-num\">4.3&nbsp;&nbsp;</span>TODO:  More complex queries</a></span></li><li><span><a href=\"#TODO:-Queries-with-joins\" data-toc-modified-id=\"TODO:-Queries-with-joins-4.4\"><span class=\"toc-item-num\">4.4&nbsp;&nbsp;</span>TODO: Queries with joins</a></span></li></ul></li><li><span><a href=\"#Exercises\" data-toc-modified-id=\"Exercises-5\"><span class=\"toc-item-num\">5&nbsp;&nbsp;</span>Exercises</a></span><ul class=\"toc-item\"><li><span><a href=\"#Query-Exercise-1---{Jeff}\" data-toc-modified-id=\"Query-Exercise-1---{Jeff}-5.1\"><span class=\"toc-item-num\">5.1&nbsp;&nbsp;</span>Query Exercise 1 - {Jeff}</a></span></li><li><span><a href=\"#Query-Exercise-2---{Victor}\" data-toc-modified-id=\"Query-Exercise-2---{Victor}-5.2\"><span class=\"toc-item-num\">5.2&nbsp;&nbsp;</span>Query Exercise 2 - {Victor}</a></span></li><li><span><a href=\"#Query-Exercise-3---{Jeff}---Students-might-do-on-their-own\" data-toc-modified-id=\"Query-Exercise-3---{Jeff}---Students-might-do-on-their-own-5.3\"><span class=\"toc-item-num\">5.3&nbsp;&nbsp;</span>Query Exercise 3 - {Jeff} - Students might do on their own</a></span></li><li><span><a href=\"#Query-Exercise-4\" data-toc-modified-id=\"Query-Exercise-4-5.4\"><span class=\"toc-item-num\">5.4&nbsp;&nbsp;</span>Query Exercise 4</a></span></li><li><span><a href=\"#Query-Exercise-5\" data-toc-modified-id=\"Query-Exercise-5-5.5\"><span class=\"toc-item-num\">5.5&nbsp;&nbsp;</span>Query Exercise 5</a></span></li><li><span><a href=\"#Great!-It's-working.-Let's-add-some-group-by-to-remove-duplicates!\" data-toc-modified-id=\"Great!-It's-working.-Let's-add-some-group-by-to-remove-duplicates!-5.6\"><span class=\"toc-item-num\">5.6&nbsp;&nbsp;</span>Great! It's working. Let's add some group by to remove duplicates!</a></span></li></ul></li></ul></div>"
   ]
  },
  {
   "cell_type": "markdown",
   "metadata": {},
   "source": [
    "# Lesson Structure"
   ]
  },
  {
   "cell_type": "markdown",
   "metadata": {},
   "source": [
    "## Questions"
   ]
  },
  {
   "cell_type": "markdown",
   "metadata": {
    "heading_collapsed": true
   },
   "source": [
    "## Outcomes"
   ]
  },
  {
   "cell_type": "markdown",
   "metadata": {
    "hidden": true
   },
   "source": [
    "YWBAT\n",
    "- build functions to perform queries\n",
    "- execute a query using multiple joins"
   ]
  },
  {
   "cell_type": "markdown",
   "metadata": {
    "heading_collapsed": true
   },
   "source": [
    "## Objectives"
   ]
  },
  {
   "cell_type": "markdown",
   "metadata": {
    "hidden": true
   },
   "source": [
    "- create a Pandas DataFrame from a query using sqlite3\n",
    "- compare and contrast using a dataframe vs using the results from a query\n",
    "- write a single join query\n",
    "- write a multiple join query"
   ]
  },
  {
   "cell_type": "markdown",
   "metadata": {
    "heading_collapsed": true
   },
   "source": [
    "## Outline"
   ]
  },
  {
   "cell_type": "markdown",
   "metadata": {
    "hidden": true
   },
   "source": [
    "* Take Questions\n",
    "* Intro to SQL\n",
    "* Connect to our sqlite db\n",
    "* Discussion on reading SQL database as a dataframe\n",
    "* More complex queries (joins)\n",
    "* Practice various queries\n",
    "* Complete a query with a join\n",
    "* Complete a query using multiple joins\n",
    "* Wrap up"
   ]
  },
  {
   "cell_type": "markdown",
   "metadata": {},
   "source": [
    "# Introduction SQL - {Victor}"
   ]
  },
  {
   "cell_type": "markdown",
   "metadata": {},
   "source": [
    "[An Introduction to SQL](intro_to_sql.ipynb)"
   ]
  },
  {
   "cell_type": "markdown",
   "metadata": {},
   "source": [
    "# Demonstrating SQLite & Python - {Jeff}"
   ]
  },
  {
   "cell_type": "code",
   "execution_count": 1,
   "metadata": {
    "ExecuteTime": {
     "end_time": "2019-09-09T22:20:34.732455Z",
     "start_time": "2019-09-09T22:20:34.126558Z"
    },
    "collapsed": true
   },
   "outputs": [],
   "source": [
    "import pandas as pd\n",
    "import sqlite3"
   ]
  },
  {
   "cell_type": "markdown",
   "metadata": {},
   "source": [
    "## Connecting to our sqlite db using sqlite3"
   ]
  },
  {
   "cell_type": "code",
   "execution_count": 2,
   "metadata": {
    "collapsed": true
   },
   "outputs": [],
   "source": [
    "conn = sqlite3.connect('data.sqlite')\n",
    "cursor = conn.cursor()"
   ]
  },
  {
   "cell_type": "markdown",
   "metadata": {},
   "source": [
    "## Listing the tables in our db"
   ]
  },
  {
   "cell_type": "code",
   "execution_count": 3,
   "metadata": {},
   "outputs": [
    {
     "name": "stdout",
     "output_type": "stream",
     "text": [
      "[('orderdetails',), ('payments',), ('offices',), ('customers',), ('orders',), ('productlines',), ('products',), ('employees',), ('contacts',), ('contacts2',)]\n"
     ]
    }
   ],
   "source": [
    "# table_names to be a list of my table_names\n",
    "query = \"SELECT name FROM sqlite_master WHERE type='table';\"\n",
    "res = cursor.execute(query).fetchall()\n",
    "print(res) # Notice these are tuples, let's extract only the names in the next cell"
   ]
  },
  {
   "cell_type": "code",
   "execution_count": 4,
   "metadata": {},
   "outputs": [
    {
     "data": {
      "text/plain": [
       "['orderdetails',\n",
       " 'payments',\n",
       " 'offices',\n",
       " 'customers',\n",
       " 'orders',\n",
       " 'productlines',\n",
       " 'products',\n",
       " 'employees',\n",
       " 'contacts',\n",
       " 'contacts2']"
      ]
     },
     "execution_count": 4,
     "metadata": {},
     "output_type": "execute_result"
    }
   ],
   "source": [
    "table_names = [r[0] for r in res]\n",
    "table_names"
   ]
  },
  {
   "cell_type": "markdown",
   "metadata": {},
   "source": [
    "## Now  select everything from the employees table just to get a feel for it"
   ]
  },
  {
   "cell_type": "code",
   "execution_count": 5,
   "metadata": {
    "ExecuteTime": {
     "end_time": "2019-09-09T21:38:36.556378Z",
     "start_time": "2019-09-09T21:38:36.541916Z"
    },
    "scrolled": true
   },
   "outputs": [
    {
     "data": {
      "text/plain": [
       "[('1002',\n",
       "  'Murphy',\n",
       "  'Diane',\n",
       "  'x5800',\n",
       "  'dmurphy@classicmodelcars.com',\n",
       "  '1',\n",
       "  '',\n",
       "  'President'),\n",
       " ('1056',\n",
       "  'Patterson',\n",
       "  'Mary',\n",
       "  'x4611',\n",
       "  'mpatterso@classicmodelcars.com',\n",
       "  '1',\n",
       "  '1002',\n",
       "  'VP Sales')]"
      ]
     },
     "execution_count": 5,
     "metadata": {},
     "output_type": "execute_result"
    }
   ],
   "source": [
    "query = 'select * from employees;'\n",
    "res = cursor.execute(query).fetchall()\n",
    "res[:2]"
   ]
  },
  {
   "cell_type": "markdown",
   "metadata": {},
   "source": [
    "# More Complexity - {Victor}"
   ]
  },
  {
   "cell_type": "markdown",
   "metadata": {},
   "source": [
    "## (3 min) What are the pros and cons of loading a sql query into a dataframe?"
   ]
  },
  {
   "cell_type": "markdown",
   "metadata": {},
   "source": [
    "- Pros\n",
    "    - \n",
    "\n",
    "- Cons\n",
    "    -  "
   ]
  },
  {
   "cell_type": "markdown",
   "metadata": {},
   "source": [
    "## TODO: REPLACE ← Function to get results"
   ]
  },
  {
   "cell_type": "markdown",
   "metadata": {},
   "source": [
    "## TODO:  More complex queries"
   ]
  },
  {
   "cell_type": "markdown",
   "metadata": {},
   "source": [
    "##  TODO: Queries with joins"
   ]
  },
  {
   "cell_type": "markdown",
   "metadata": {},
   "source": [
    "# Exercises"
   ]
  },
  {
   "cell_type": "markdown",
   "metadata": {},
   "source": [
    "We'll walk through some of these and aim to have you all (students) to do them yourself!"
   ]
  },
  {
   "cell_type": "markdown",
   "metadata": {},
   "source": [
    "## Query Exercise 1 - {Jeff}"
   ]
  },
  {
   "cell_type": "markdown",
   "metadata": {},
   "source": [
    "Create the following table using the customers table and the orders table\n",
    "\n",
    "<img src=\"images/query1.png\" width=\"500\"/>"
   ]
  },
  {
   "cell_type": "code",
   "execution_count": null,
   "metadata": {
    "collapsed": true
   },
   "outputs": [],
   "source": [
    "# First look at the customers dataframe \n",
    "\n",
    "\n",
    "# Then look at the orders dataframe"
   ]
  },
  {
   "cell_type": "markdown",
   "metadata": {},
   "source": [
    "<details>\n",
    "    <summary>Query 1 - Solution</summary>\n",
    "    Query:\n",
    "    \n",
    "```SQL\n",
    "SELECT c.customerName, c.phone, c.state, o.orderDate FROM\n",
    "customers as c\n",
    "JOIN orders as o using (customerNumber);\n",
    "```\n",
    "</details>"
   ]
  },
  {
   "cell_type": "code",
   "execution_count": null,
   "metadata": {
    "collapsed": true
   },
   "outputs": [],
   "source": [
    "query = \"\"\"SELECT\n",
    "        \"\"\""
   ]
  },
  {
   "cell_type": "code",
   "execution_count": null,
   "metadata": {
    "collapsed": true
   },
   "outputs": [],
   "source": [
    "join_1 = pd.read_sql(query, conn)\n",
    "join_1.head()"
   ]
  },
  {
   "cell_type": "markdown",
   "metadata": {
    "heading_collapsed": true
   },
   "source": [
    "## Query Exercise 2 - {Victor}"
   ]
  },
  {
   "cell_type": "markdown",
   "metadata": {
    "hidden": true
   },
   "source": [
    "Create a query that results in a table with the every customer number for an employee along with the employee name and number.\n",
    "\n",
    "Ex:\n",
    "\n",
    "<img src=\"images/query2.png\" width=\"500\"/>"
   ]
  },
  {
   "cell_type": "code",
   "execution_count": null,
   "metadata": {
    "collapsed": true,
    "hidden": true
   },
   "outputs": [],
   "source": [
    "# Work here"
   ]
  },
  {
   "cell_type": "code",
   "execution_count": null,
   "metadata": {
    "collapsed": true,
    "hidden": true
   },
   "outputs": [],
   "source": [
    "query = \"\"\"\n",
    "        SELECT\n",
    "        \"\"\"\n",
    "\n",
    "pd.read_sql(query, conn).head()"
   ]
  },
  {
   "cell_type": "markdown",
   "metadata": {
    "hidden": true
   },
   "source": [
    "<details>\n",
    "    <summary> Query 2 - Solution</summary>\n",
    "    Query:\n",
    "    \n",
    "```SQL\n",
    "select e.firstname, e.lastname, e.employeenumber, c.customerNumber\n",
    "from employees as e\n",
    "join customers as c\n",
    "on e.employeenumber = c.salesrepemployeenumber;\n",
    "```\n",
    "    \n",
    "</details>"
   ]
  },
  {
   "cell_type": "code",
   "execution_count": null,
   "metadata": {
    "collapsed": true,
    "hidden": true
   },
   "outputs": [],
   "source": [
    "# Now let's take this and incorporate the next table orders\n",
    "orders_df.head(1)"
   ]
  },
  {
   "cell_type": "markdown",
   "metadata": {},
   "source": [
    "## Query Exercise 3 - {Jeff} - Students might do on their own"
   ]
  },
  {
   "cell_type": "markdown",
   "metadata": {},
   "source": [
    "Create a query that results in a table with every customer name, order date, where status is disputed (you will need the customers and orders table to complete this task)\n",
    "\n",
    "Ex:\n",
    "\n",
    "<img src=\"images/query_3.png\" width=\"500\"/>"
   ]
  },
  {
   "cell_type": "code",
   "execution_count": null,
   "metadata": {
    "collapsed": true
   },
   "outputs": [],
   "source": [
    "# Work here"
   ]
  },
  {
   "cell_type": "code",
   "execution_count": null,
   "metadata": {
    "collapsed": true
   },
   "outputs": [],
   "source": [
    "query = \"\"\"\n",
    "        SELECT\n",
    "        \"\"\"\n",
    "\n",
    "pd.read_sql(query, conn).head()"
   ]
  },
  {
   "cell_type": "markdown",
   "metadata": {},
   "source": [
    "<details>\n",
    "    <summary> Query 3 - Solution</summary>\n",
    "    Query:\n",
    "    \n",
    "```SQL\n",
    "SELECT c.customerName, o.status, o.orderDate\n",
    "FROM customers c\n",
    "JOIN orders o\n",
    "USING (customerNumber)\n",
    "WHERE status = \"Disputed\"\n",
    "```\n",
    "    \n",
    "</details>"
   ]
  },
  {
   "cell_type": "markdown",
   "metadata": {
    "heading_collapsed": true
   },
   "source": [
    "## Query Exercise 4"
   ]
  },
  {
   "cell_type": "markdown",
   "metadata": {
    "hidden": true
   },
   "source": [
    "Write a query that results in the following:\n",
    "\n",
    "Employee First and Last Name, order number and each product code for that order. \n",
    "\n",
    "*There should be a row for each product code*\n",
    "\n",
    "Screenshot:\n",
    "\n",
    "<img src=\"images/query4.png\" width=\"500\"/>"
   ]
  },
  {
   "cell_type": "code",
   "execution_count": null,
   "metadata": {
    "collapsed": true,
    "hidden": true
   },
   "outputs": [],
   "source": [
    "# work here\n",
    "query = \"\"\"\n",
    "        select\n",
    "        \"\"\"\n",
    "\n",
    "pd.read_sql(query, conn).head(2)"
   ]
  },
  {
   "cell_type": "markdown",
   "metadata": {
    "hidden": true
   },
   "source": [
    "<details>\n",
    "    <summary>Query 4 Solution</summary>\n",
    "    \n",
    "    Query:\n",
    "    \n",
    "```SQL\n",
    "    select e.firstname, e.lastname, o.orderNumber, od.productCode\n",
    "    from employees as e\n",
    "    join customers as c\n",
    "    on e.employeenumber = c.salesrepemployeenumber\n",
    "    join orders as o\n",
    "    on o.customerNumber = c.customerNumber\n",
    "    join orderdetails as od\n",
    "    on od.orderNumber = o.orderNumber;\n",
    "```\n",
    "        \n",
    "</details>"
   ]
  },
  {
   "cell_type": "markdown",
   "metadata": {
    "heading_collapsed": true
   },
   "source": [
    "## Query Exercise 5"
   ]
  },
  {
   "cell_type": "markdown",
   "metadata": {
    "hidden": true
   },
   "source": [
    "Write a query that results in the following:\n",
    "\n",
    "Employee First and Last Name and each product name they sold, add an alias to match the image below\n",
    "\n",
    "*There should be a row for each product name*\n",
    "\n",
    "Screenshot:\n",
    "\n",
    "<img src=\"images/query5.png\" width=\"500\"/>"
   ]
  },
  {
   "cell_type": "code",
   "execution_count": null,
   "metadata": {
    "collapsed": true,
    "hidden": true
   },
   "outputs": [],
   "source": [
    "# work here\n",
    "query = \"\"\"\n",
    "        select\n",
    "        \"\"\"\n",
    "\n",
    "pd.read_sql(query, conn).head(2)"
   ]
  },
  {
   "cell_type": "markdown",
   "metadata": {
    "hidden": true
   },
   "source": [
    "<details>\n",
    "    <summary>Query 5 Solution</summary>\n",
    "    \n",
    "    Query:\n",
    "    \n",
    "```SQL\n",
    "select e.firstname, e.lastname, p.productName\n",
    "from employees as e\n",
    "join customers as c\n",
    "on e.employeenumber = c.salesrepemployeenumber\n",
    "join orders as o\n",
    "on o.customerNumber = c.customerNumber\n",
    "join orderdetails as od\n",
    "on od.orderNumber = o.orderNumber\n",
    "join products as p\n",
    "on p.productCode = od.productCode;\n",
    "```\n",
    "        \n",
    "</details>"
   ]
  },
  {
   "cell_type": "markdown",
   "metadata": {
    "heading_collapsed": true
   },
   "source": [
    "## Great! It's working. Let's add some group by to remove duplicates!\n",
    "\n",
    "**Add aliases to result in the following**\n",
    "\n",
    "<img src=\"images/query5.png\" width=\"500\"/>"
   ]
  },
  {
   "cell_type": "code",
   "execution_count": null,
   "metadata": {
    "collapsed": true,
    "hidden": true
   },
   "outputs": [],
   "source": [
    "# remember the alias' from above\n",
    "\n",
    "query = '''SELECT ...'''\n",
    "\n",
    "final_df = pd.read_sql(query, conn)\n",
    "final_df.head(2)"
   ]
  },
  {
   "cell_type": "markdown",
   "metadata": {
    "hidden": true
   },
   "source": [
    "<details>\n",
    "<summary>Final Query Solution</summary>\n",
    "\n",
    "    Query:\n",
    "    \n",
    "```SQL\n",
    "select e.firstname as fn, e.lastname as ln, p.productName as pn\n",
    "from employees as e\n",
    "join customers as c\n",
    "on e.employeenumber = c.salesrepemployeenumber\n",
    "join orders as o\n",
    "on o.customerNumber = c.customerNumber\n",
    "join orderdetails as od\n",
    "on od.orderNumber = o.orderNumber\n",
    "join products as p\n",
    "on p.productCode = od.productCode\n",
    "group by fn, ln, pn;\n",
    "\n",
    "```\n",
    "\n",
    "</details>"
   ]
  }
 ],
 "metadata": {
  "kernelspec": {
   "display_name": "Python 3",
   "language": "python",
   "name": "python3"
  },
  "language_info": {
   "codemirror_mode": {
    "name": "ipython",
    "version": 3
   },
   "file_extension": ".py",
   "mimetype": "text/x-python",
   "name": "python",
   "nbconvert_exporter": "python",
   "pygments_lexer": "ipython3",
   "version": "3.6.5"
  },
  "toc": {
   "base_numbering": 1,
   "nav_menu": {},
   "number_sections": true,
   "sideBar": false,
   "skip_h1_title": false,
   "title_cell": "Table of Contents",
   "title_sidebar": "Contents",
   "toc_cell": true,
   "toc_position": {
    "height": "47px",
    "left": "1210px",
    "top": "110px",
    "width": "210px"
   },
   "toc_section_display": false,
   "toc_window_display": true
  },
  "varInspector": {
   "cols": {
    "lenName": 16,
    "lenType": 16,
    "lenVar": 40
   },
   "kernels_config": {
    "python": {
     "delete_cmd_postfix": "",
     "delete_cmd_prefix": "del ",
     "library": "var_list.py",
     "varRefreshCmd": "print(var_dic_list())"
    },
    "r": {
     "delete_cmd_postfix": ") ",
     "delete_cmd_prefix": "rm(",
     "library": "var_list.r",
     "varRefreshCmd": "cat(var_dic_list()) "
    }
   },
   "types_to_exclude": [
    "module",
    "function",
    "builtin_function_or_method",
    "instance",
    "_Feature"
   ],
   "window_display": false
  }
 },
 "nbformat": 4,
 "nbformat_minor": 2
}
